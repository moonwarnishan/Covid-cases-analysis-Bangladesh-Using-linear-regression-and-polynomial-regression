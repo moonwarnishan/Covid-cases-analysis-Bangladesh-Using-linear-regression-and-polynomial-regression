{
 "cells": [
  {
   "cell_type": "code",
   "execution_count": 1,
   "id": "9c4dd844",
   "metadata": {},
   "outputs": [],
   "source": [
    "import os\n",
    "import numpy as np \n",
    "from sklearn.preprocessing import PolynomialFeatures\n",
    "from sklearn.linear_model import LinearRegression\n",
    "import pandas as pd \n",
    "import matplotlib.pyplot as plt\n",
    "from datetime import datetime"
   ]
  },
  {
   "cell_type": "code",
   "execution_count": 2,
   "id": "e82917c1",
   "metadata": {},
   "outputs": [],
   "source": [
    "#load all data\n",
    "covid_info=pd.read_csv('C:/Users/Moonwar/Desktop/Dataset/covid_dataset.csv')\n",
    "first_dose=pd.read_csv('C:/Users/Moonwar/Desktop/Dataset/covid_first_dose.csv')\n",
    "second_dose=pd.read_csv('C:/Users/Moonwar/Desktop/Dataset/covid_second_dose.csv')"
   ]
  },
  {
   "cell_type": "code",
   "execution_count": 3,
   "id": "f2589307",
   "metadata": {},
   "outputs": [],
   "source": [
    "# taking date\n",
    "covid_info['Day'] = pd.to_datetime(covid_info['Day'], infer_datetime_format=True)\n",
    "first_dose['Day'] = pd.to_datetime(first_dose['Day'], infer_datetime_format=True)\n",
    "second_dose['Day'] = pd.to_datetime(second_dose['Day'], infer_datetime_format=True)"
   ]
  },
  {
   "cell_type": "code",
   "execution_count": 4,
   "id": "1d156324",
   "metadata": {},
   "outputs": [],
   "source": [
    "#all files date taking in same format \n",
    "covid_info['Day'] = covid_info['Day'].dt.strftime('%-d-%m-%Y')\n",
    "first_dose['Day'] = first_dose['Day'].dt.strftime('%-d-%m-%Y')\n",
    "second_dose['Day'] = second_dose['Day'].dt.strftime('%-d-%m-%Y')"
   ]
  },
  {
   "cell_type": "code",
   "execution_count": 5,
   "id": "a7acd412",
   "metadata": {},
   "outputs": [],
   "source": [
    "#outerjoin for merge all data\n",
    "join1=pd.merge(covid_info, first_dose, on='Day', how='outer')\n",
    "join2=pd.merge(join1, second_dose, on='Day', how='outer')"
   ]
  },
  {
   "cell_type": "code",
   "execution_count": 6,
   "id": "8398c668",
   "metadata": {},
   "outputs": [],
   "source": [
    "#replace Nan values with Zero\n",
    "join2['Number of Vaccinations (First Dose)'] = join2['Number of Vaccinations (First Dose)'].replace(np.nan, 0)\n",
    "join2['Number of Vaccinations (Second Dose)'] = join2['Number of Vaccinations (Second Dose)'].replace(np.nan, 0)"
   ]
  },
  {
   "cell_type": "code",
   "execution_count": 7,
   "id": "1ea8e5f9",
   "metadata": {},
   "outputs": [],
   "source": [
    "#save Joined csv file\n",
    "#join2.to_csv('join2.csv')"
   ]
  },
  {
   "cell_type": "code",
   "execution_count": 8,
   "id": "e9fc475f",
   "metadata": {},
   "outputs": [],
   "source": [
    "#model buildup\n",
    "def model_train(x_train,y_train):\n",
    "    #fitting the data into the model\n",
    "    model = linear_model.LinearRegression()#Creating instance of linear model\n",
    "    #sklearn takes input as matrix so the we have to reshape the matrix into colloum matrix\n",
    "    x_train_for_fittng = np.matrix(x_train.reshape(len(x_train),1))\n",
    "    y_train_for_fittng = np.matrix(y_train.reshape(len(y_train),1))\n",
    "    #fit the data into the model\n",
    "    return(model.fit(x_train_for_fittng,y_train_for_fittng))"
   ]
  },
  {
   "cell_type": "code",
   "execution_count": 9,
   "id": "1c9cf09c",
   "metadata": {},
   "outputs": [],
   "source": [
    "#Function for Polynomial regrassing function\n",
    "def poly_regr(X_train,Y_train,degree):\n",
    "    polynom = PolynomialFeatures(degree=degree)\n",
    "    X_poly = polynom.fit_transform(X_train.reshape(len(X_train),1))\n",
    "    polyReg = LinearRegression()\n",
    "    #Returing the fitted model\n",
    "    return polyReg.fit(X_poly,Y_train.reshape(len(Y_train),1)) "
   ]
  },
  {
   "cell_type": "code",
   "execution_count": 10,
   "id": "21358419",
   "metadata": {},
   "outputs": [],
   "source": [
    "#without vaccine"
   ]
  },
  {
   "cell_type": "code",
   "execution_count": 11,
   "id": "591eaa92",
   "metadata": {},
   "outputs": [],
   "source": [
    "data_without_Vaccine=join2.head(297)"
   ]
  },
  {
   "cell_type": "code",
   "execution_count": 12,
   "id": "b233be5b",
   "metadata": {},
   "outputs": [],
   "source": [
    "Days_withoutVaccine = np.array(data_without_Vaccine['Day'])\n",
    "Confirmed_withoutVaccine = np.array(data_without_Vaccine['Confirmed case'])\n",
    "Deaths_withoutVaccine = np.array(data_without_Vaccine['Death Case'])"
   ]
  },
  {
   "cell_type": "code",
   "execution_count": 13,
   "id": "9082f300",
   "metadata": {},
   "outputs": [],
   "source": [
    "data_without_Vaccine.insert(0, 'NDays', range(1, 1 + len(data_without_Vaccine)))"
   ]
  },
  {
   "cell_type": "code",
   "execution_count": 14,
   "id": "5ccd406d",
   "metadata": {},
   "outputs": [],
   "source": [
    "TotalDays_Without_Vaccine = np.array(data_without_Vaccine['NDays'])"
   ]
  },
  {
   "cell_type": "code",
   "execution_count": 15,
   "id": "bef9d694",
   "metadata": {},
   "outputs": [],
   "source": [
    "random_indices = np.random.permutation(297)"
   ]
  },
  {
   "cell_type": "code",
   "execution_count": 16,
   "id": "12cd61fd",
   "metadata": {},
   "outputs": [],
   "source": [
    "Days_train_without_Vaccine = TotalDays_Without_Vaccine[random_indices[:]]"
   ]
  },
  {
   "cell_type": "code",
   "execution_count": 17,
   "id": "d59b15e8",
   "metadata": {},
   "outputs": [],
   "source": [
    "Confirmed_train_without_Vaccine = Confirmed_withoutVaccine[random_indices[:]]\n",
    "Deaths_train_without_Vaccine = Deaths_withoutVaccine[random_indices[:]]"
   ]
  },
  {
   "cell_type": "code",
   "execution_count": 18,
   "id": "cad38b7e",
   "metadata": {},
   "outputs": [
    {
     "name": "stdout",
     "output_type": "stream",
     "text": [
      "LinearRegression()\n"
     ]
    }
   ],
   "source": [
    "#calling the plynomial regrassion model for confirm case\n",
    "polynom = PolynomialFeatures(degree=4)\n",
    "model = poly_regr(Days_train_without_Vaccine,Confirmed_train_without_Vaccine,4)\n",
    "#Printing the model\n",
    "print(model)\n",
    "#Pridiction the mode on traning data\n",
    "predict = model.predict(polynom.fit_transform(Days_train_without_Vaccine.reshape(len(Days_train_without_Vaccine),1)))"
   ]
  },
  {
   "cell_type": "code",
   "execution_count": 19,
   "id": "ecaa994f",
   "metadata": {},
   "outputs": [],
   "source": [
    "#Creating Array of custom Days\n",
    "Days_array_without_vaccine = []\n",
    "#Creating Days Data for further Prediction\n",
    "for i in range(1,297):\n",
    "    Days_array_without_vaccine.append(i) \n",
    "#Converting arary into np array    \n",
    "Days_predict_without_vaccine = np.array(Days_array_without_vaccine)\n",
    "#Predict the model on Future Date \n",
    "predict_Confirm_without_vaccine = model.predict(polynom.fit_transform(Days_predict_without_vaccine.reshape(len(Days_array_without_vaccine),1)))"
   ]
  },
  {
   "cell_type": "code",
   "execution_count": 20,
   "id": "2396d32e",
   "metadata": {},
   "outputs": [
    {
     "data": {
      "image/png": "[encoded data removed]",
      "text/plain": [
       "<Figure size 432x288 with 1 Axes>"
      ]
     },
     "metadata": {
      "needs_background": "light"
     },
     "output_type": "display_data"
    }
   ],
   "source": [
    "plt.scatter(Days_train_without_Vaccine,Confirmed_train_without_Vaccine,color=\"red\")\n",
    "plt.plot(Days_predict_without_vaccine,predict_Confirm_without_vaccine,color='blue')\n",
    "plt.title('confirm case before vaccination vs days')\n",
    "plt.xlabel('Days')\n",
    "plt.ylabel('Confirm case')\n",
    "plt.ylim(ymin=0)\n",
    "plt.show()"
   ]
  },
  {
   "cell_type": "code",
   "execution_count": 21,
   "id": "78197735",
   "metadata": {},
   "outputs": [],
   "source": [
    "#death case before vaccine"
   ]
  },
  {
   "cell_type": "code",
   "execution_count": 22,
   "id": "36a30aa8",
   "metadata": {},
   "outputs": [
    {
     "name": "stdout",
     "output_type": "stream",
     "text": [
      "LinearRegression()\n"
     ]
    }
   ],
   "source": [
    "polynom = PolynomialFeatures(degree=4)\n",
    "model = poly_regr(Days_train_without_Vaccine,Deaths_train_without_Vaccine,4)\n",
    "#Printing the model\n",
    "print(model)\n",
    "\n",
    "#Pridiction the mode on traning data\n",
    "predict = model.predict(polynom.fit_transform(Days_train_without_Vaccine.reshape(len(Days_train_without_Vaccine),1)))"
   ]
  },
  {
   "cell_type": "code",
   "execution_count": 23,
   "id": "1674d787",
   "metadata": {},
   "outputs": [],
   "source": [
    "Days_array_without_vaccine = []\n",
    "#Creating Days Data for further Prediction\n",
    "for i in range(1,297):\n",
    "    Days_array_without_vaccine.append(i) \n",
    "#Converting arary into np array    \n",
    "Days_predict_without_vaccine = np.array(Days_array_without_vaccine)\n",
    "#Predict the model on Future Date \n",
    "predict_Confirm_without_vaccine = model.predict(polynom.fit_transform(Days_predict_without_vaccine.reshape(len(Days_array_without_vaccine),1)))"
   ]
  },
  {
   "cell_type": "code",
   "execution_count": 24,
   "id": "6916d10d",
   "metadata": {},
   "outputs": [
    {
     "data": {
      "image/png": "[encoded data removed]",
      "text/plain": [
       "<Figure size 432x288 with 1 Axes>"
      ]
     },
     "metadata": {
      "needs_background": "light"
     },
     "output_type": "display_data"
    }
   ],
   "source": [
    "plt.scatter(Days_train_without_Vaccine,Deaths_train_without_Vaccine,color=\"red\")\n",
    "plt.plot(Days_predict_without_vaccine,predict_Confirm_without_vaccine,color='blue')\n",
    "plt.title('Death before vaccine case vs days')\n",
    "plt.xlabel('Days')\n",
    "plt.ylabel('Death before vaccine case')\n",
    "plt.ylim(ymin=0)\n",
    "plt.show()"
   ]
  },
  {
   "cell_type": "code",
   "execution_count": null,
   "id": "7b1b9692",
   "metadata": {},
   "outputs": [],
   "source": []
  },
  {
   "cell_type": "code",
   "execution_count": null,
   "id": "9e7b65ca",
   "metadata": {},
   "outputs": [],
   "source": []
  },
  {
   "cell_type": "code",
   "execution_count": 25,
   "id": "38b5eca8",
   "metadata": {},
   "outputs": [],
   "source": [
    "#after vaccine"
   ]
  },
  {
   "cell_type": "code",
   "execution_count": 26,
   "id": "fc2a8e56",
   "metadata": {},
   "outputs": [],
   "source": [
    "Data_after_vaccine=join2.iloc[298:,:]"
   ]
  },
  {
   "cell_type": "code",
   "execution_count": 27,
   "id": "498e2ecf",
   "metadata": {},
   "outputs": [],
   "source": [
    "Days_aftervaccine = np.array(Data_after_vaccine['Day'])\n",
    "Confirmed_aftervaccine = np.array(Data_after_vaccine['Confirmed case'])\n",
    "Deaths_aftervaccine = np.array(Data_after_vaccine['Death Case'])"
   ]
  },
  {
   "cell_type": "code",
   "execution_count": 28,
   "id": "dc236b38",
   "metadata": {},
   "outputs": [],
   "source": [
    "Data_after_vaccine.insert(0, 'NDays', range(1, 1 + len(Data_after_vaccine)))"
   ]
  },
  {
   "cell_type": "code",
   "execution_count": 29,
   "id": "7c894b29",
   "metadata": {},
   "outputs": [],
   "source": [
    "TotalDays_After_Vaccine = np.array(Data_after_vaccine['NDays'])"
   ]
  },
  {
   "cell_type": "code",
   "execution_count": 30,
   "id": "fceac731",
   "metadata": {},
   "outputs": [],
   "source": [
    "random_indices1 = np.random.permutation(329)"
   ]
  },
  {
   "cell_type": "code",
   "execution_count": 31,
   "id": "d034e4f3",
   "metadata": {},
   "outputs": [],
   "source": [
    "Days_train_after_vaccine = TotalDays_After_Vaccine[random_indices[:]]"
   ]
  },
  {
   "cell_type": "code",
   "execution_count": 32,
   "id": "a05f4926",
   "metadata": {},
   "outputs": [],
   "source": [
    "Confirmed_train_after_vaccine = Confirmed_aftervaccine[random_indices[:]]\n",
    "Deaths_train_after_vaccine= Deaths_aftervaccine[random_indices[:]]"
   ]
  },
  {
   "cell_type": "code",
   "execution_count": 33,
   "id": "17d9f4e9",
   "metadata": {},
   "outputs": [
    {
     "name": "stdout",
     "output_type": "stream",
     "text": [
      "LinearRegression()\n"
     ]
    }
   ],
   "source": [
    "#calling the plynomial regrassion model for confirm case\n",
    "\n",
    "polynom = PolynomialFeatures(degree=4)\n",
    "model = poly_regr(Days_train_after_vaccine,Confirmed_train_after_vaccine,4)\n",
    "#Printing the model\n",
    "print(model)\n",
    "\n",
    "#Pridiction the mode on traning data\n",
    "predict = model.predict(polynom.fit_transform(Days_train_after_vaccine.reshape(len(Days_train_after_vaccine),1)))\n"
   ]
  },
  {
   "cell_type": "code",
   "execution_count": 34,
   "id": "e70ca9ec",
   "metadata": {},
   "outputs": [],
   "source": [
    "Days_array_after_vaccine = []\n",
    "#Creating Days Data for further Prediction\n",
    "for i in range(1,300):\n",
    "    Days_array_after_vaccine.append(i) \n",
    "#Converting arary into np array    \n",
    "Days_predict_after_vaccine = np.array(Days_array_after_vaccine)\n",
    "#Predict the model on Future Date \n",
    "predict_Confirm_after_vaccine = model.predict(polynom.fit_transform(Days_predict_after_vaccine.reshape(len(Days_array_after_vaccine),1)))"
   ]
  },
  {
   "cell_type": "code",
   "execution_count": 35,
   "id": "95f8abf4",
   "metadata": {},
   "outputs": [
    {
     "data": {
      "image/png": "[encoded data removed]",
      "text/plain": [
       "<Figure size 432x288 with 1 Axes>"
      ]
     },
     "metadata": {
      "needs_background": "light"
     },
     "output_type": "display_data"
    }
   ],
   "source": [
    "plt.scatter(Days_train_after_vaccine,Confirmed_train_after_vaccine,color=\"red\")\n",
    "plt.plot(Days_predict_after_vaccine,predict_Confirm_after_vaccine,color='blue')\n",
    "plt.title('confirm case after vaccination vs days')\n",
    "plt.xlabel('Days')\n",
    "plt.ylabel('Confirm case')\n",
    "plt.ylim(ymin=0)\n",
    "plt.show()"
   ]
  },
  {
   "cell_type": "code",
   "execution_count": 36,
   "id": "7322ffb5",
   "metadata": {},
   "outputs": [],
   "source": [
    "#death case after vaccine"
   ]
  },
  {
   "cell_type": "code",
   "execution_count": 37,
   "id": "cee01c8a",
   "metadata": {},
   "outputs": [
    {
     "name": "stdout",
     "output_type": "stream",
     "text": [
      "LinearRegression()\n"
     ]
    }
   ],
   "source": [
    "polynom = PolynomialFeatures(degree=4)\n",
    "model = poly_regr(Days_train_after_vaccine,Deaths_train_after_vaccine,4)\n",
    "#Printing the model\n",
    "print(model)\n",
    "\n",
    "#Pridiction the mode on traning data\n",
    "predict = model.predict(polynom.fit_transform(Days_train_after_vaccine.reshape(len(Days_train_after_vaccine),1)))\n"
   ]
  },
  {
   "cell_type": "code",
   "execution_count": 38,
   "id": "020dd1eb",
   "metadata": {},
   "outputs": [],
   "source": [
    "Days_array_after_vaccine = []\n",
    "#Creating Days Data for further Prediction\n",
    "for i in range(1,300):\n",
    "    Days_array_after_vaccine.append(i) \n",
    "#Converting arary into np array    \n",
    "Days_predict_after_vaccine = np.array(Days_array_after_vaccine)\n",
    "#Predict the model on Future Date \n",
    "predict_death_after_vaccine = model.predict(polynom.fit_transform(Days_predict_after_vaccine.reshape(len(Days_array_after_vaccine),1)))"
   ]
  },
  {
   "cell_type": "code",
   "execution_count": 39,
   "id": "0daf2fc7",
   "metadata": {},
   "outputs": [
    {
     "data": {
      "image/png": "[encoded data removed]",
      "text/plain": [
       "<Figure size 432x288 with 1 Axes>"
      ]
     },
     "metadata": {
      "needs_background": "light"
     },
     "output_type": "display_data"
    }
   ],
   "source": [
    "plt.scatter(Days_train_after_vaccine,Deaths_train_after_vaccine,color=\"red\")\n",
    "plt.plot(Days_predict_after_vaccine,predict_death_after_vaccine,color='blue')\n",
    "plt.title('Death case after vaccine vs days')\n",
    "plt.xlabel('Days')\n",
    "plt.ylabel('Death case')\n",
    "plt.ylim(ymin=0)\n",
    "plt.show()"
   ]
  },
  {
   "cell_type": "code",
   "execution_count": null,
   "id": "9d35dbb5",
   "metadata": {},
   "outputs": [],
   "source": []
  },
  {
   "cell_type": "code",
   "execution_count": null,
   "id": "db23ac20",
   "metadata": {},
   "outputs": [],
   "source": []
  },
  {
   "cell_type": "code",
   "execution_count": 40,
   "id": "223a5904",
   "metadata": {},
   "outputs": [],
   "source": [
    "#How many 2nd dose vaccination will be coveder by given days"
   ]
  },
  {
   "cell_type": "code",
   "execution_count": 41,
   "id": "296177bd",
   "metadata": {},
   "outputs": [],
   "source": [
    "Second_dose=pd.read_csv('C:/Users/Moonwar/Desktop/Dataset/covid_second_dose.csv')"
   ]
  },
  {
   "cell_type": "code",
   "execution_count": 42,
   "id": "6325c30f",
   "metadata": {},
   "outputs": [],
   "source": [
    "Second_dose.insert(0, 'NDays', range(1, 1 + len(Second_dose)))"
   ]
  },
  {
   "cell_type": "code",
   "execution_count": 43,
   "id": "ae923cb4",
   "metadata": {},
   "outputs": [
    {
     "data": {
      "text/html": [
       "<div>\n",
       "<style scoped>\n",
       "    .dataframe tbody tr th:only-of-type {\n",
       "        vertical-align: middle;\n",
       "    }\n",
       "\n",
       "    .dataframe tbody tr th {\n",
       "        vertical-align: top;\n",
       "    }\n",
       "\n",
       "    .dataframe thead th {\n",
       "        text-align: right;\n",
       "    }\n",
       "</style>\n",
       "<table border=\"1\" class=\"dataframe\">\n",
       "  <thead>\n",
       "    <tr style=\"text-align: right;\">\n",
       "      <th></th>\n",
       "      <th>NDays</th>\n",
       "      <th>Day</th>\n",
       "      <th>Number of Vaccinations (Second Dose)</th>\n",
       "    </tr>\n",
       "  </thead>\n",
       "  <tbody>\n",
       "    <tr>\n",
       "      <th>0</th>\n",
       "      <td>1</td>\n",
       "      <td>2021-04-08</td>\n",
       "      <td>81323.0</td>\n",
       "    </tr>\n",
       "    <tr>\n",
       "      <th>1</th>\n",
       "      <td>2</td>\n",
       "      <td>2021-04-10</td>\n",
       "      <td>136703.0</td>\n",
       "    </tr>\n",
       "    <tr>\n",
       "      <th>2</th>\n",
       "      <td>3</td>\n",
       "      <td>2021-04-11</td>\n",
       "      <td>165691.0</td>\n",
       "    </tr>\n",
       "    <tr>\n",
       "      <th>3</th>\n",
       "      <td>4</td>\n",
       "      <td>2021-04-12</td>\n",
       "      <td>138879.0</td>\n",
       "    </tr>\n",
       "    <tr>\n",
       "      <th>4</th>\n",
       "      <td>5</td>\n",
       "      <td>2021-04-13</td>\n",
       "      <td>210579.0</td>\n",
       "    </tr>\n",
       "  </tbody>\n",
       "</table>\n",
       "</div>"
      ],
      "text/plain": [
       "   NDays         Day  Number of Vaccinations (Second Dose)\n",
       "0      1  2021-04-08                               81323.0\n",
       "1      2  2021-04-10                              136703.0\n",
       "2      3  2021-04-11                              165691.0\n",
       "3      4  2021-04-12                              138879.0\n",
       "4      5  2021-04-13                              210579.0"
      ]
     },
     "execution_count": 43,
     "metadata": {},
     "output_type": "execute_result"
    }
   ],
   "source": [
    "Second_dose.head()"
   ]
  },
  {
   "cell_type": "code",
   "execution_count": 44,
   "id": "57772e7a",
   "metadata": {},
   "outputs": [],
   "source": [
    "del Second_dose['Day']"
   ]
  },
  {
   "cell_type": "code",
   "execution_count": 45,
   "id": "ac198408",
   "metadata": {},
   "outputs": [
    {
     "data": {
      "text/html": [
       "<div>\n",
       "<style scoped>\n",
       "    .dataframe tbody tr th:only-of-type {\n",
       "        vertical-align: middle;\n",
       "    }\n",
       "\n",
       "    .dataframe tbody tr th {\n",
       "        vertical-align: top;\n",
       "    }\n",
       "\n",
       "    .dataframe thead th {\n",
       "        text-align: right;\n",
       "    }\n",
       "</style>\n",
       "<table border=\"1\" class=\"dataframe\">\n",
       "  <thead>\n",
       "    <tr style=\"text-align: right;\">\n",
       "      <th></th>\n",
       "      <th>NDays</th>\n",
       "      <th>Number of Vaccinations (Second Dose)</th>\n",
       "    </tr>\n",
       "  </thead>\n",
       "  <tbody>\n",
       "    <tr>\n",
       "      <th>0</th>\n",
       "      <td>1</td>\n",
       "      <td>81323.0</td>\n",
       "    </tr>\n",
       "    <tr>\n",
       "      <th>1</th>\n",
       "      <td>2</td>\n",
       "      <td>136703.0</td>\n",
       "    </tr>\n",
       "    <tr>\n",
       "      <th>2</th>\n",
       "      <td>3</td>\n",
       "      <td>165691.0</td>\n",
       "    </tr>\n",
       "    <tr>\n",
       "      <th>3</th>\n",
       "      <td>4</td>\n",
       "      <td>138879.0</td>\n",
       "    </tr>\n",
       "    <tr>\n",
       "      <th>4</th>\n",
       "      <td>5</td>\n",
       "      <td>210579.0</td>\n",
       "    </tr>\n",
       "  </tbody>\n",
       "</table>\n",
       "</div>"
      ],
      "text/plain": [
       "   NDays  Number of Vaccinations (Second Dose)\n",
       "0      1                               81323.0\n",
       "1      2                              136703.0\n",
       "2      3                              165691.0\n",
       "3      4                              138879.0\n",
       "4      5                              210579.0"
      ]
     },
     "execution_count": 45,
     "metadata": {},
     "output_type": "execute_result"
    }
   ],
   "source": [
    "Second_dose.head()"
   ]
  },
  {
   "cell_type": "code",
   "execution_count": 46,
   "id": "90ce3252",
   "metadata": {},
   "outputs": [],
   "source": [
    "Second_dose['Total_covered'] = Second_dose['Number of Vaccinations (Second Dose)'].cumsum()"
   ]
  },
  {
   "cell_type": "code",
   "execution_count": 47,
   "id": "4d426277",
   "metadata": {},
   "outputs": [
    {
     "data": {
      "text/html": [
       "<div>\n",
       "<style scoped>\n",
       "    .dataframe tbody tr th:only-of-type {\n",
       "        vertical-align: middle;\n",
       "    }\n",
       "\n",
       "    .dataframe tbody tr th {\n",
       "        vertical-align: top;\n",
       "    }\n",
       "\n",
       "    .dataframe thead th {\n",
       "        text-align: right;\n",
       "    }\n",
       "</style>\n",
       "<table border=\"1\" class=\"dataframe\">\n",
       "  <thead>\n",
       "    <tr style=\"text-align: right;\">\n",
       "      <th></th>\n",
       "      <th>NDays</th>\n",
       "      <th>Number of Vaccinations (Second Dose)</th>\n",
       "      <th>Total_covered</th>\n",
       "    </tr>\n",
       "  </thead>\n",
       "  <tbody>\n",
       "    <tr>\n",
       "      <th>0</th>\n",
       "      <td>1</td>\n",
       "      <td>81323.0</td>\n",
       "      <td>81323.0</td>\n",
       "    </tr>\n",
       "    <tr>\n",
       "      <th>1</th>\n",
       "      <td>2</td>\n",
       "      <td>136703.0</td>\n",
       "      <td>218026.0</td>\n",
       "    </tr>\n",
       "    <tr>\n",
       "      <th>2</th>\n",
       "      <td>3</td>\n",
       "      <td>165691.0</td>\n",
       "      <td>383717.0</td>\n",
       "    </tr>\n",
       "    <tr>\n",
       "      <th>3</th>\n",
       "      <td>4</td>\n",
       "      <td>138879.0</td>\n",
       "      <td>522596.0</td>\n",
       "    </tr>\n",
       "    <tr>\n",
       "      <th>4</th>\n",
       "      <td>5</td>\n",
       "      <td>210579.0</td>\n",
       "      <td>733175.0</td>\n",
       "    </tr>\n",
       "  </tbody>\n",
       "</table>\n",
       "</div>"
      ],
      "text/plain": [
       "   NDays  Number of Vaccinations (Second Dose)  Total_covered\n",
       "0      1                               81323.0        81323.0\n",
       "1      2                              136703.0       218026.0\n",
       "2      3                              165691.0       383717.0\n",
       "3      4                              138879.0       522596.0\n",
       "4      5                              210579.0       733175.0"
      ]
     },
     "execution_count": 47,
     "metadata": {},
     "output_type": "execute_result"
    }
   ],
   "source": [
    "Second_dose.head()"
   ]
  },
  {
   "cell_type": "code",
   "execution_count": 48,
   "id": "79673b0e",
   "metadata": {},
   "outputs": [],
   "source": [
    "import numpy as np"
   ]
  },
  {
   "cell_type": "code",
   "execution_count": 49,
   "id": "ea82ea58",
   "metadata": {},
   "outputs": [],
   "source": [
    "del Second_dose['Number of Vaccinations (Second Dose)']"
   ]
  },
  {
   "cell_type": "code",
   "execution_count": 50,
   "id": "87777d04",
   "metadata": {},
   "outputs": [],
   "source": [
    "x=Second_dose.iloc[:,:-1].values\n",
    "y=Second_dose.iloc[:,-1].values"
   ]
  },
  {
   "cell_type": "code",
   "execution_count": 51,
   "id": "f387e37b",
   "metadata": {},
   "outputs": [
    {
     "data": {
      "text/plain": [
       "array([[  1],\n",
       "       [  2],\n",
       "       [  3],\n",
       "       [  4],\n",
       "       [  5],\n",
       "       [  6],\n",
       "       [  7],\n",
       "       [  8],\n",
       "       [  9],\n",
       "       [ 10],\n",
       "       [ 11],\n",
       "       [ 12],\n",
       "       [ 13],\n",
       "       [ 14],\n",
       "       [ 15],\n",
       "       [ 16],\n",
       "       [ 17],\n",
       "       [ 18],\n",
       "       [ 19],\n",
       "       [ 20],\n",
       "       [ 21],\n",
       "       [ 22],\n",
       "       [ 23],\n",
       "       [ 24],\n",
       "       [ 25],\n",
       "       [ 26],\n",
       "       [ 27],\n",
       "       [ 28],\n",
       "       [ 29],\n",
       "       [ 30],\n",
       "       [ 31],\n",
       "       [ 32],\n",
       "       [ 33],\n",
       "       [ 34],\n",
       "       [ 35],\n",
       "       [ 36],\n",
       "       [ 37],\n",
       "       [ 38],\n",
       "       [ 39],\n",
       "       [ 40],\n",
       "       [ 41],\n",
       "       [ 42],\n",
       "       [ 43],\n",
       "       [ 44],\n",
       "       [ 45],\n",
       "       [ 46],\n",
       "       [ 47],\n",
       "       [ 48],\n",
       "       [ 49],\n",
       "       [ 50],\n",
       "       [ 51],\n",
       "       [ 52],\n",
       "       [ 53],\n",
       "       [ 54],\n",
       "       [ 55],\n",
       "       [ 56],\n",
       "       [ 57],\n",
       "       [ 58],\n",
       "       [ 59],\n",
       "       [ 60],\n",
       "       [ 61],\n",
       "       [ 62],\n",
       "       [ 63],\n",
       "       [ 64],\n",
       "       [ 65],\n",
       "       [ 66],\n",
       "       [ 67],\n",
       "       [ 68],\n",
       "       [ 69],\n",
       "       [ 70],\n",
       "       [ 71],\n",
       "       [ 72],\n",
       "       [ 73],\n",
       "       [ 74],\n",
       "       [ 75],\n",
       "       [ 76],\n",
       "       [ 77],\n",
       "       [ 78],\n",
       "       [ 79],\n",
       "       [ 80],\n",
       "       [ 81],\n",
       "       [ 82],\n",
       "       [ 83],\n",
       "       [ 84],\n",
       "       [ 85],\n",
       "       [ 86],\n",
       "       [ 87],\n",
       "       [ 88],\n",
       "       [ 89],\n",
       "       [ 90],\n",
       "       [ 91],\n",
       "       [ 92],\n",
       "       [ 93],\n",
       "       [ 94],\n",
       "       [ 95],\n",
       "       [ 96],\n",
       "       [ 97],\n",
       "       [ 98],\n",
       "       [ 99],\n",
       "       [100],\n",
       "       [101],\n",
       "       [102],\n",
       "       [103],\n",
       "       [104],\n",
       "       [105],\n",
       "       [106],\n",
       "       [107],\n",
       "       [108],\n",
       "       [109],\n",
       "       [110],\n",
       "       [111],\n",
       "       [112],\n",
       "       [113],\n",
       "       [114],\n",
       "       [115],\n",
       "       [116],\n",
       "       [117],\n",
       "       [118],\n",
       "       [119],\n",
       "       [120],\n",
       "       [121],\n",
       "       [122],\n",
       "       [123],\n",
       "       [124],\n",
       "       [125],\n",
       "       [126],\n",
       "       [127],\n",
       "       [128],\n",
       "       [129],\n",
       "       [130],\n",
       "       [131],\n",
       "       [132],\n",
       "       [133],\n",
       "       [134],\n",
       "       [135],\n",
       "       [136],\n",
       "       [137],\n",
       "       [138],\n",
       "       [139],\n",
       "       [140],\n",
       "       [141],\n",
       "       [142],\n",
       "       [143],\n",
       "       [144],\n",
       "       [145],\n",
       "       [146],\n",
       "       [147],\n",
       "       [148],\n",
       "       [149],\n",
       "       [150],\n",
       "       [151],\n",
       "       [152],\n",
       "       [153],\n",
       "       [154],\n",
       "       [155],\n",
       "       [156],\n",
       "       [157],\n",
       "       [158],\n",
       "       [159],\n",
       "       [160],\n",
       "       [161],\n",
       "       [162],\n",
       "       [163],\n",
       "       [164],\n",
       "       [165],\n",
       "       [166],\n",
       "       [167],\n",
       "       [168],\n",
       "       [169],\n",
       "       [170],\n",
       "       [171],\n",
       "       [172],\n",
       "       [173],\n",
       "       [174],\n",
       "       [175],\n",
       "       [176],\n",
       "       [177],\n",
       "       [178],\n",
       "       [179],\n",
       "       [180],\n",
       "       [181],\n",
       "       [182],\n",
       "       [183],\n",
       "       [184],\n",
       "       [185],\n",
       "       [186],\n",
       "       [187],\n",
       "       [188],\n",
       "       [189],\n",
       "       [190],\n",
       "       [191],\n",
       "       [192],\n",
       "       [193],\n",
       "       [194],\n",
       "       [195],\n",
       "       [196],\n",
       "       [197],\n",
       "       [198],\n",
       "       [199],\n",
       "       [200],\n",
       "       [201],\n",
       "       [202],\n",
       "       [203],\n",
       "       [204],\n",
       "       [205],\n",
       "       [206],\n",
       "       [207],\n",
       "       [208],\n",
       "       [209]])"
      ]
     },
     "execution_count": 51,
     "metadata": {},
     "output_type": "execute_result"
    }
   ],
   "source": [
    "x"
   ]
  },
  {
   "cell_type": "code",
   "execution_count": 52,
   "id": "70437786",
   "metadata": {},
   "outputs": [
    {
     "data": {
      "text/plain": [
       "array([   81323.,   218026.,   383717.,   522596.,   733175.,   930151.,\n",
       "        1151767.,  1366609.,  1507287.,  1678189.,  1815987.,  1967975.,\n",
       "        2155296.,  2326866.,  2458223.,  2579084.,  2698155.,  2805694.,\n",
       "        2936241.,  3023169.,  3106709.,  3210509.,  3313424.,  3401531.,\n",
       "        3496186.,  3593523.,  3651153.,  3700083.,  3757023.,  3821400.,\n",
       "        3876836.,  3930751.,  3972218.,  4015522.,  4050375.,  4084030.,\n",
       "        4121317.,  4142255.,  4161714.,  4173930.,  4186243.,  4193956.,\n",
       "        4203136.,  4209333.,  4216696.,  4223178.,  4228741.,  4234028.,\n",
       "        4240856.,  4244997.,  4250167.,  4253526.,  4257499.,  4261067.,\n",
       "        4264362.,  4266951.,  4270322.,  4273325.,  4276510.,  4279411.,\n",
       "        4282144.,  4284260.,  4286365.,  4287583.,  4289198.,  4291447.,\n",
       "        4292150.,  4293201.,  4293944.,  4294837.,  4295418.,  4296069.,\n",
       "        4296792.,  4297148.,  4297472.,  4297827.,  4298120.,  4298332.,\n",
       "        4298997.,  4299705.,  4300672.,  4301405.,  4302837.,  4306031.,\n",
       "        4310509.,  4315864.,  4322393.,  4329550.,  4339452.,  4351733.,\n",
       "        4367995.,  4391850.,  4416197.,  4443583.,  4497381.,  4595857.,\n",
       "        4733077.,  4902209.,  5065981.,  5224347.,  5428381.,  5694316.,\n",
       "        5930232.,  6129576.,  6254438.,  6395502.,  6575509.,  6756251.,\n",
       "        6976353.,  7202000.,  7430253.,  7639965.,  7840205.,  8045505.,\n",
       "        8208415.,  8359667.,  8526345.,  8734218.,  8965036., 11673505.,\n",
       "       12526878., 13199737., 13207995., 13555974., 13792456., 13957234.,\n",
       "       14069297., 14211752., 14390030., 14594054., 14819069., 15024597.,\n",
       "       15261320., 15517161., 15779879., 16032598., 16311087., 16498493.,\n",
       "       16632362., 16780513., 16918875., 17032370., 17170434., 17311967.,\n",
       "       17465778., 17620328., 17793331., 17938511., 18128532., 18291933.,\n",
       "       18453372., 18592565., 18751244., 18923971., 19165509., 19398779.,\n",
       "       19630293., 19992610., 20262649., 20592050., 20859805., 21107079.,\n",
       "       21330029., 26774195., 28686832., 29235603., 29562701., 29895693.,\n",
       "       30206440., 30519131., 30868846., 31286396., 31626273., 31967306.,\n",
       "       32263496., 32538408., 32539150., 32809723., 33148438., 33410741.,\n",
       "       33740205., 34000390., 34287218., 34555850., 34866642., 35117131.,\n",
       "       35411341., 35689314., 35970761., 36187339., 36433109., 36673633.,\n",
       "       36957049., 37262311., 37561806., 37563705., 37827378., 38136440.,\n",
       "       38495404., 39656923., 40742886., 42055309., 42764677., 43251639.,\n",
       "       43607435., 44177747., 44743382., 45670638., 45759687.])"
      ]
     },
     "execution_count": 52,
     "metadata": {},
     "output_type": "execute_result"
    }
   ],
   "source": [
    "y"
   ]
  },
  {
   "cell_type": "code",
   "execution_count": 53,
   "id": "4527c1e7",
   "metadata": {},
   "outputs": [],
   "source": [
    "import numpy.ma as ma\n",
    "y=np.where(np.isnan(y), ma.array(y, mask=np.isnan(y)).mean(), y) "
   ]
  },
  {
   "cell_type": "code",
   "execution_count": 54,
   "id": "c59d6900",
   "metadata": {},
   "outputs": [
    {
     "data": {
      "text/html": [
       "<div>\n",
       "<style scoped>\n",
       "    .dataframe tbody tr th:only-of-type {\n",
       "        vertical-align: middle;\n",
       "    }\n",
       "\n",
       "    .dataframe tbody tr th {\n",
       "        vertical-align: top;\n",
       "    }\n",
       "\n",
       "    .dataframe thead th {\n",
       "        text-align: right;\n",
       "    }\n",
       "</style>\n",
       "<table border=\"1\" class=\"dataframe\">\n",
       "  <thead>\n",
       "    <tr style=\"text-align: right;\">\n",
       "      <th></th>\n",
       "      <th>NDays</th>\n",
       "      <th>Total_covered</th>\n",
       "    </tr>\n",
       "  </thead>\n",
       "  <tbody>\n",
       "    <tr>\n",
       "      <th>0</th>\n",
       "      <td>1</td>\n",
       "      <td>81323.0</td>\n",
       "    </tr>\n",
       "    <tr>\n",
       "      <th>1</th>\n",
       "      <td>2</td>\n",
       "      <td>218026.0</td>\n",
       "    </tr>\n",
       "    <tr>\n",
       "      <th>2</th>\n",
       "      <td>3</td>\n",
       "      <td>383717.0</td>\n",
       "    </tr>\n",
       "    <tr>\n",
       "      <th>3</th>\n",
       "      <td>4</td>\n",
       "      <td>522596.0</td>\n",
       "    </tr>\n",
       "    <tr>\n",
       "      <th>4</th>\n",
       "      <td>5</td>\n",
       "      <td>733175.0</td>\n",
       "    </tr>\n",
       "  </tbody>\n",
       "</table>\n",
       "</div>"
      ],
      "text/plain": [
       "   NDays  Total_covered\n",
       "0      1        81323.0\n",
       "1      2       218026.0\n",
       "2      3       383717.0\n",
       "3      4       522596.0\n",
       "4      5       733175.0"
      ]
     },
     "execution_count": 54,
     "metadata": {},
     "output_type": "execute_result"
    }
   ],
   "source": [
    "Second_dose.head()"
   ]
  },
  {
   "cell_type": "code",
   "execution_count": 55,
   "id": "6b1feb94",
   "metadata": {},
   "outputs": [],
   "source": [
    "from sklearn.model_selection import train_test_split\n",
    "x_train,x_test,y_train,y_test=train_test_split(x,y,test_size=.2,random_state=0)"
   ]
  },
  {
   "cell_type": "code",
   "execution_count": 56,
   "id": "35aafa7e",
   "metadata": {},
   "outputs": [
    {
     "name": "stdout",
     "output_type": "stream",
     "text": [
      "81.364370569855 %\n"
     ]
    }
   ],
   "source": [
    "from sklearn.linear_model import LinearRegression\n",
    "regressor=LinearRegression()\n",
    "regressor.fit(x_train,y_train)\n",
    "y_pred=regressor.predict(x_test)\n",
    "r2_score = regressor.score(x_test,y_test)\n",
    "print(r2_score*100,'%')"
   ]
  },
  {
   "cell_type": "code",
   "execution_count": 57,
   "id": "4fa19667",
   "metadata": {},
   "outputs": [],
   "source": [
    "import matplotlib.pyplot as plt"
   ]
  },
  {
   "cell_type": "code",
   "execution_count": 58,
   "id": "3199b204",
   "metadata": {},
   "outputs": [
    {
     "data": {
      "image/png": "[encoded data removed]",
      "text/plain": [
       "<Figure size 432x288 with 1 Axes>"
      ]
     },
     "metadata": {
      "needs_background": "light"
     },
     "output_type": "display_data"
    }
   ],
   "source": [
    "plt.scatter(x_train,y_train,color='red')\n",
    "plt.plot(x_train,regressor.predict(x_train),color='blue')\n",
    "plt.title('Days Vs second dose Covered(Training Set)')\n",
    "plt.xlabel('Days')\n",
    "plt.ylabel('second dose Covered')\n",
    "plt.show()"
   ]
  },
  {
   "cell_type": "code",
   "execution_count": 59,
   "id": "9be1eed7",
   "metadata": {},
   "outputs": [
    {
     "data": {
      "image/png": "[encoded data removed]",
      "text/plain": [
       "<Figure size 432x288 with 1 Axes>"
      ]
     },
     "metadata": {
      "needs_background": "light"
     },
     "output_type": "display_data"
    }
   ],
   "source": [
    "plt.scatter(x_test,y_test,color='red')\n",
    "plt.plot(x_test,regressor.predict(x_test),color='blue')\n",
    "plt.title('Days Vs second dose Covered(Testing Set)')\n",
    "plt.xlabel('Days')\n",
    "plt.ylabel('second dose Covered')\n",
    "plt.show()"
   ]
  },
  {
   "cell_type": "code",
   "execution_count": null,
   "id": "9ab3a20f",
   "metadata": {},
   "outputs": [],
   "source": []
  }
 ],
 "metadata": {
  "kernelspec": {
   "display_name": "Python 3",
   "language": "python",
   "name": "python3"
  },
  "language_info": {
   "codemirror_mode": {
    "name": "ipython",
    "version": 3
   },
   "file_extension": ".py",
   "mimetype": "text/x-python",
   "name": "python",
   "nbconvert_exporter": "python",
   "pygments_lexer": "ipython3",
   "version": "3.8.8"
  }
 },
 "nbformat": 4,
 "nbformat_minor": 5
}
